{
 "cells": [
  {
   "cell_type": "code",
   "execution_count": 1,
   "id": "51b19d2a-c565-4366-9b06-5c8652cac19d",
   "metadata": {},
   "outputs": [],
   "source": [
    "import nltk"
   ]
  },
  {
   "cell_type": "code",
   "execution_count": 3,
   "id": "78e58c08-5502-4b97-96b7-43a1eb379476",
   "metadata": {},
   "outputs": [],
   "source": [
    "from nltk.tokenize import word_tokenize\n",
    "from nltk.corpus import stopwords\n",
    "from nltk import pos_tag\n",
    "from nltk.stem import PorterStemmer, WordNetLemmatizer"
   ]
  },
  {
   "cell_type": "code",
   "execution_count": 5,
   "id": "b7fb41ed-46d4-41a1-8446-5bdc5e403d07",
   "metadata": {},
   "outputs": [
    {
     "name": "stderr",
     "output_type": "stream",
     "text": [
      "[nltk_data] Downloading package punkt to\n",
      "[nltk_data]     C:\\Users\\suraj\\AppData\\Roaming\\nltk_data...\n",
      "[nltk_data]   Unzipping tokenizers\\punkt.zip.\n",
      "[nltk_data] Downloading package stopwords to\n",
      "[nltk_data]     C:\\Users\\suraj\\AppData\\Roaming\\nltk_data...\n",
      "[nltk_data]   Unzipping corpora\\stopwords.zip.\n",
      "[nltk_data] Downloading package averaged_perceptron_tagger to\n",
      "[nltk_data]     C:\\Users\\suraj\\AppData\\Roaming\\nltk_data...\n",
      "[nltk_data]   Unzipping taggers\\averaged_perceptron_tagger.zip.\n",
      "[nltk_data] Downloading package wordnet to\n",
      "[nltk_data]     C:\\Users\\suraj\\AppData\\Roaming\\nltk_data...\n",
      "[nltk_data] Downloading package omw-1.4 to\n",
      "[nltk_data]     C:\\Users\\suraj\\AppData\\Roaming\\nltk_data...\n"
     ]
    },
    {
     "data": {
      "text/plain": [
       "True"
      ]
     },
     "execution_count": 5,
     "metadata": {},
     "output_type": "execute_result"
    }
   ],
   "source": [
    "nltk.download('punkt')\n",
    "nltk.download('stopwords')\n",
    "nltk.download('averaged_perceptron_tagger')\n",
    "nltk.download('wordnet')\n",
    "nltk.download('omw-1.4')"
   ]
  },
  {
   "cell_type": "code",
   "execution_count": 7,
   "id": "03950374-1edf-4693-8108-a49f34b7138d",
   "metadata": {},
   "outputs": [],
   "source": [
    "text = \"Sinhagad Fort is a historic hill fortress located near Pune in Maharashtra, India. It played an important role in the Maratha Empire and is known for the bravery of Tanaji Malusare during the Battle of Sinhagad.\""
   ]
  },
  {
   "cell_type": "code",
   "execution_count": 9,
   "id": "4d69a13b-c8a0-4a93-ae5f-2110ce9df8bb",
   "metadata": {},
   "outputs": [
    {
     "name": "stdout",
     "output_type": "stream",
     "text": [
      "Tokens: ['Sinhagad', 'Fort', 'is', 'a', 'historic', 'hill', 'fortress', 'located', 'near', 'Pune', 'in', 'Maharashtra,', 'India.', 'It', 'played', 'an', 'important', 'role', 'in', 'the', 'Maratha', 'Empire', 'and', 'is', 'known', 'for', 'the', 'bravery', 'of', 'Tanaji', 'Malusare', 'during', 'the', 'Battle', 'of', 'Sinhagad.']\n"
     ]
    }
   ],
   "source": [
    "tokens = text.split()\n",
    "print(\"Tokens:\", tokens)"
   ]
  },
  {
   "cell_type": "code",
   "execution_count": 13,
   "id": "89b093ac-8f06-4bcf-854a-652e6a8094d7",
   "metadata": {},
   "outputs": [],
   "source": [
    "stop_words = {'is', 'a', 'the', 'to', 'for', 'with', 'and', 'in', 'on', 'of', 'it', 'an'}"
   ]
  },
  {
   "cell_type": "code",
   "execution_count": 15,
   "id": "b07c7f4f-fd2c-489f-9559-c7d11b026c82",
   "metadata": {},
   "outputs": [],
   "source": [
    "filtered_tokens = [word for word in tokens if word.lower() not in stop_words]"
   ]
  },
  {
   "cell_type": "code",
   "execution_count": 17,
   "id": "d12e9a9e-1ce2-4764-b9f8-0a748c5218a3",
   "metadata": {},
   "outputs": [
    {
     "name": "stdout",
     "output_type": "stream",
     "text": [
      "Filtered Tokens: ['Sinhagad', 'Fort', 'historic', 'hill', 'fortress', 'located', 'near', 'Pune', 'Maharashtra,', 'India.', 'played', 'important', 'role', 'Maratha', 'Empire', 'known', 'bravery', 'Tanaji', 'Malusare', 'during', 'Battle', 'Sinhagad.']\n"
     ]
    }
   ],
   "source": [
    "print(\"Filtered Tokens:\", filtered_tokens)"
   ]
  },
  {
   "cell_type": "code",
   "execution_count": 19,
   "id": "feb7eadb-454f-48e7-83d8-25cb75544cb4",
   "metadata": {},
   "outputs": [
    {
     "name": "stdout",
     "output_type": "stream",
     "text": [
      "POS Tags (simulated): [('Sinhagad', 'NN'), ('Fort', 'NN'), ('historic', 'NN'), ('hill', 'NN'), ('fortress', 'NN'), ('located', 'NN'), ('near', 'NN'), ('Pune', 'NN'), ('Maharashtra,', 'NN'), ('India.', 'NN'), ('played', 'NN'), ('important', 'NN'), ('role', 'NN'), ('Maratha', 'NN'), ('Empire', 'NN'), ('known', 'NN'), ('bravery', 'NN'), ('Tanaji', 'NN'), ('Malusare', 'NN'), ('during', 'NN'), ('Battle', 'NN'), ('Sinhagad.', 'NN')]\n"
     ]
    }
   ],
   "source": [
    "pos_tags = [(word, 'NN') for word in filtered_tokens]\n",
    "print(\"POS Tags (simulated):\", pos_tags)"
   ]
  },
  {
   "cell_type": "code",
   "execution_count": 23,
   "id": "26a8c35e-6023-432c-bb29-c4715d28f0d6",
   "metadata": {},
   "outputs": [
    {
     "name": "stdout",
     "output_type": "stream",
     "text": [
      "Stemmed Words: ['sinhagad', 'fort', 'histor', 'hill', 'fortress', 'locat', 'near', 'pune', 'maharashtra,', 'india.', 'play', 'import', 'role', 'maratha', 'empir', 'known', 'braveri', 'tanaji', 'malusar', 'dure', 'battl', 'sinhagad.']\n"
     ]
    }
   ],
   "source": [
    "stemmer = PorterStemmer()\n",
    "stemmed_words = [stemmer.stem(word) for word in filtered_tokens]\n",
    "print(\"Stemmed Words:\", stemmed_words)\n"
   ]
  },
  {
   "cell_type": "code",
   "execution_count": 41,
   "id": "e483cd2c-1b21-465c-9679-22995e3a1e1d",
   "metadata": {},
   "outputs": [
    {
     "name": "stdout",
     "output_type": "stream",
     "text": [
      "Lemmatized Words: ['Sinhagad', 'Fort', 'historic', 'hill', 'fortress', 'located', 'near', 'Pune', 'Maharashtra,', 'India.', 'played', 'important', 'role', 'Maratha', 'Empire', 'known', 'bravery', 'Tanaji', 'Malusare', 'during', 'Battle', 'Sinhagad.']\n"
     ]
    }
   ],
   "source": [
    "lemmatizer = WordNetLemmatizer()\n",
    "lemmatized_words = [lemmatizer.lemmatize(word) for word in filtered_tokens]\n",
    "print(\"Lemmatized Words:\", lemmatized_words)"
   ]
  },
  {
   "cell_type": "code",
   "execution_count": 49,
   "id": "772c2646-0998-4fb9-93e6-681c067aec14",
   "metadata": {},
   "outputs": [],
   "source": [
    "words = word_tokenize(text)"
   ]
  },
  {
   "cell_type": "code",
   "execution_count": null,
   "id": "043d960d-dc03-43ea-a829-5e9eb76c62cb",
   "metadata": {},
   "outputs": [],
   "source": [
    "import string"
   ]
  },
  {
   "cell_type": "code",
   "execution_count": 53,
   "id": "73412a23-e263-4ddf-9fe1-64509274ceab",
   "metadata": {},
   "outputs": [],
   "source": [
    "t = [word for word in words if word not in string.punctuation]"
   ]
  },
  {
   "cell_type": "code",
   "execution_count": 55,
   "id": "a0bda417-699f-433f-afab-a30d0ede89ec",
   "metadata": {},
   "outputs": [],
   "source": [
    "from sklearn.feature_extraction.text import TfidfVectorizer"
   ]
  },
  {
   "cell_type": "code",
   "execution_count": 57,
   "id": "1e48ad3d-dae0-44d6-aa7e-4374fb22ff15",
   "metadata": {},
   "outputs": [],
   "source": [
    "tfidf = TfidfVectorizer()"
   ]
  },
  {
   "cell_type": "code",
   "execution_count": 59,
   "id": "4a480494-2132-4409-85fc-5780b440d07f",
   "metadata": {},
   "outputs": [],
   "source": [
    "v = tfidf.fit_transform(t)"
   ]
  },
  {
   "cell_type": "code",
   "execution_count": 61,
   "id": "7bcfd296-b968-4af6-9989-f3d6c8a6c8ad",
   "metadata": {},
   "outputs": [
    {
     "data": {
      "text/plain": [
       "(36, 29)"
      ]
     },
     "execution_count": 61,
     "metadata": {},
     "output_type": "execute_result"
    }
   ],
   "source": [
    "v.shape"
   ]
  },
  {
   "cell_type": "code",
   "execution_count": 63,
   "id": "5a1a99d4-a1bb-4dea-8f11-c6ca997d1c7c",
   "metadata": {},
   "outputs": [],
   "source": [
    "import pandas as pd"
   ]
  },
  {
   "cell_type": "code",
   "execution_count": 65,
   "id": "484c528c-8e2d-4936-8f18-bc9337d4ab42",
   "metadata": {},
   "outputs": [
    {
     "data": {
      "text/html": [
       "<div>\n",
       "<style scoped>\n",
       "    .dataframe tbody tr th:only-of-type {\n",
       "        vertical-align: middle;\n",
       "    }\n",
       "\n",
       "    .dataframe tbody tr th {\n",
       "        vertical-align: top;\n",
       "    }\n",
       "\n",
       "    .dataframe thead th {\n",
       "        text-align: right;\n",
       "    }\n",
       "</style>\n",
       "<table border=\"1\" class=\"dataframe\">\n",
       "  <thead>\n",
       "    <tr style=\"text-align: right;\">\n",
       "      <th></th>\n",
       "      <th>0</th>\n",
       "    </tr>\n",
       "  </thead>\n",
       "  <tbody>\n",
       "    <tr>\n",
       "      <th>0</th>\n",
       "      <td>(0, 26)\\t1.0</td>\n",
       "    </tr>\n",
       "    <tr>\n",
       "      <th>1</th>\n",
       "      <td>(0, 7)\\t1.0</td>\n",
       "    </tr>\n",
       "    <tr>\n",
       "      <th>2</th>\n",
       "      <td>(0, 14)\\t1.0</td>\n",
       "    </tr>\n",
       "    <tr>\n",
       "      <th>3</th>\n",
       "      <td></td>\n",
       "    </tr>\n",
       "    <tr>\n",
       "      <th>4</th>\n",
       "      <td>(0, 10)\\t1.0</td>\n",
       "    </tr>\n",
       "    <tr>\n",
       "      <th>5</th>\n",
       "      <td>(0, 9)\\t1.0</td>\n",
       "    </tr>\n",
       "    <tr>\n",
       "      <th>6</th>\n",
       "      <td>(0, 8)\\t1.0</td>\n",
       "    </tr>\n",
       "    <tr>\n",
       "      <th>7</th>\n",
       "      <td>(0, 17)\\t1.0</td>\n",
       "    </tr>\n",
       "    <tr>\n",
       "      <th>8</th>\n",
       "      <td>(0, 21)\\t1.0</td>\n",
       "    </tr>\n",
       "    <tr>\n",
       "      <th>9</th>\n",
       "      <td>(0, 24)\\t1.0</td>\n",
       "    </tr>\n",
       "    <tr>\n",
       "      <th>10</th>\n",
       "      <td>(0, 12)\\t1.0</td>\n",
       "    </tr>\n",
       "    <tr>\n",
       "      <th>11</th>\n",
       "      <td>(0, 18)\\t1.0</td>\n",
       "    </tr>\n",
       "    <tr>\n",
       "      <th>12</th>\n",
       "      <td>(0, 13)\\t1.0</td>\n",
       "    </tr>\n",
       "    <tr>\n",
       "      <th>13</th>\n",
       "      <td>(0, 15)\\t1.0</td>\n",
       "    </tr>\n",
       "    <tr>\n",
       "      <th>14</th>\n",
       "      <td>(0, 23)\\t1.0</td>\n",
       "    </tr>\n",
       "    <tr>\n",
       "      <th>15</th>\n",
       "      <td>(0, 0)\\t1.0</td>\n",
       "    </tr>\n",
       "    <tr>\n",
       "      <th>16</th>\n",
       "      <td>(0, 11)\\t1.0</td>\n",
       "    </tr>\n",
       "    <tr>\n",
       "      <th>17</th>\n",
       "      <td>(0, 25)\\t1.0</td>\n",
       "    </tr>\n",
       "    <tr>\n",
       "      <th>18</th>\n",
       "      <td>(0, 12)\\t1.0</td>\n",
       "    </tr>\n",
       "    <tr>\n",
       "      <th>19</th>\n",
       "      <td>(0, 28)\\t1.0</td>\n",
       "    </tr>\n",
       "    <tr>\n",
       "      <th>20</th>\n",
       "      <td>(0, 20)\\t1.0</td>\n",
       "    </tr>\n",
       "    <tr>\n",
       "      <th>21</th>\n",
       "      <td>(0, 5)\\t1.0</td>\n",
       "    </tr>\n",
       "    <tr>\n",
       "      <th>22</th>\n",
       "      <td>(0, 1)\\t1.0</td>\n",
       "    </tr>\n",
       "    <tr>\n",
       "      <th>23</th>\n",
       "      <td>(0, 14)\\t1.0</td>\n",
       "    </tr>\n",
       "    <tr>\n",
       "      <th>24</th>\n",
       "      <td>(0, 16)\\t1.0</td>\n",
       "    </tr>\n",
       "    <tr>\n",
       "      <th>25</th>\n",
       "      <td>(0, 6)\\t1.0</td>\n",
       "    </tr>\n",
       "    <tr>\n",
       "      <th>26</th>\n",
       "      <td>(0, 28)\\t1.0</td>\n",
       "    </tr>\n",
       "    <tr>\n",
       "      <th>27</th>\n",
       "      <td>(0, 3)\\t1.0</td>\n",
       "    </tr>\n",
       "    <tr>\n",
       "      <th>28</th>\n",
       "      <td>(0, 22)\\t1.0</td>\n",
       "    </tr>\n",
       "    <tr>\n",
       "      <th>29</th>\n",
       "      <td>(0, 27)\\t1.0</td>\n",
       "    </tr>\n",
       "    <tr>\n",
       "      <th>30</th>\n",
       "      <td>(0, 19)\\t1.0</td>\n",
       "    </tr>\n",
       "    <tr>\n",
       "      <th>31</th>\n",
       "      <td>(0, 4)\\t1.0</td>\n",
       "    </tr>\n",
       "    <tr>\n",
       "      <th>32</th>\n",
       "      <td>(0, 28)\\t1.0</td>\n",
       "    </tr>\n",
       "    <tr>\n",
       "      <th>33</th>\n",
       "      <td>(0, 2)\\t1.0</td>\n",
       "    </tr>\n",
       "    <tr>\n",
       "      <th>34</th>\n",
       "      <td>(0, 22)\\t1.0</td>\n",
       "    </tr>\n",
       "    <tr>\n",
       "      <th>35</th>\n",
       "      <td>(0, 26)\\t1.0</td>\n",
       "    </tr>\n",
       "  </tbody>\n",
       "</table>\n",
       "</div>"
      ],
      "text/plain": [
       "                 0\n",
       "0     (0, 26)\\t1.0\n",
       "1      (0, 7)\\t1.0\n",
       "2     (0, 14)\\t1.0\n",
       "3                 \n",
       "4     (0, 10)\\t1.0\n",
       "5      (0, 9)\\t1.0\n",
       "6      (0, 8)\\t1.0\n",
       "7     (0, 17)\\t1.0\n",
       "8     (0, 21)\\t1.0\n",
       "9     (0, 24)\\t1.0\n",
       "10    (0, 12)\\t1.0\n",
       "11    (0, 18)\\t1.0\n",
       "12    (0, 13)\\t1.0\n",
       "13    (0, 15)\\t1.0\n",
       "14    (0, 23)\\t1.0\n",
       "15     (0, 0)\\t1.0\n",
       "16    (0, 11)\\t1.0\n",
       "17    (0, 25)\\t1.0\n",
       "18    (0, 12)\\t1.0\n",
       "19    (0, 28)\\t1.0\n",
       "20    (0, 20)\\t1.0\n",
       "21     (0, 5)\\t1.0\n",
       "22     (0, 1)\\t1.0\n",
       "23    (0, 14)\\t1.0\n",
       "24    (0, 16)\\t1.0\n",
       "25     (0, 6)\\t1.0\n",
       "26    (0, 28)\\t1.0\n",
       "27     (0, 3)\\t1.0\n",
       "28    (0, 22)\\t1.0\n",
       "29    (0, 27)\\t1.0\n",
       "30    (0, 19)\\t1.0\n",
       "31     (0, 4)\\t1.0\n",
       "32    (0, 28)\\t1.0\n",
       "33     (0, 2)\\t1.0\n",
       "34    (0, 22)\\t1.0\n",
       "35    (0, 26)\\t1.0"
      ]
     },
     "execution_count": 65,
     "metadata": {},
     "output_type": "execute_result"
    }
   ],
   "source": [
    "pd.DataFrame(v)"
   ]
  },
  {
   "cell_type": "code",
   "execution_count": null,
   "id": "55da4245-8f27-445e-a026-9a970c9b8a29",
   "metadata": {},
   "outputs": [],
   "source": []
  }
 ],
 "metadata": {
  "kernelspec": {
   "display_name": "Python 3 (ipykernel)",
   "language": "python",
   "name": "python3"
  },
  "language_info": {
   "codemirror_mode": {
    "name": "ipython",
    "version": 3
   },
   "file_extension": ".py",
   "mimetype": "text/x-python",
   "name": "python",
   "nbconvert_exporter": "python",
   "pygments_lexer": "ipython3",
   "version": "3.12.4"
  }
 },
 "nbformat": 4,
 "nbformat_minor": 5
}
